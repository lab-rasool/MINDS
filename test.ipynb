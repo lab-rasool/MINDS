{
 "cells": [
  {
   "cell_type": "code",
   "execution_count": 8,
   "metadata": {},
   "outputs": [
    {
     "name": "stdout",
     "output_type": "stream",
     "text": [
      "0             aliquot\n",
      "1             analyte\n",
      "2            clinical\n",
      "3            exposure\n",
      "4      family_history\n",
      "5           follow_up\n",
      "6    pathology_detail\n",
      "7             portion\n",
      "8              sample\n",
      "9               slide\n",
      "Name: Tables_in_nihnci, dtype: object\n"
     ]
    }
   ],
   "source": [
    "import minds\n",
    "\n",
    "tables = minds.get_tables()\n",
    "print(tables)"
   ]
  },
  {
   "cell_type": "code",
   "execution_count": 9,
   "metadata": {},
   "outputs": [
    {
     "name": "stdout",
     "output_type": "stream",
     "text": [
      "0                    case_id\n",
      "1          case_submitter_id\n",
      "2                 project_id\n",
      "3               age_at_index\n",
      "4          age_is_obfuscated\n",
      "               ...          \n",
      "153      treatment_frequency\n",
      "154    treatment_intent_type\n",
      "155     treatment_or_therapy\n",
      "156        treatment_outcome\n",
      "157           treatment_type\n",
      "Name: Field, Length: 158, dtype: object\n"
     ]
    }
   ],
   "source": [
    "print(minds.get_columns(tables[2]))"
   ]
  },
  {
   "cell_type": "code",
   "execution_count": 10,
   "metadata": {},
   "outputs": [
    {
     "name": "stdout",
     "output_type": "stream",
     "text": [
      "                                   case_id case_submitter_id project_id  \\\n",
      "0     0075437e-ba1a-46be-86d6-9773209a2b5e      TCGA-62-A471  TCGA-LUAD   \n",
      "1     0075437e-ba1a-46be-86d6-9773209a2b5e      TCGA-62-A471  TCGA-LUAD   \n",
      "2     009be09b-f9f6-43b7-8f45-4a648f8123ce      TCGA-67-3773  TCGA-LUAD   \n",
      "3     009be09b-f9f6-43b7-8f45-4a648f8123ce      TCGA-67-3773  TCGA-LUAD   \n",
      "4     0147edcf-0ca5-4136-bd01-43d05e2843f4      TCGA-17-Z038  TCGA-LUAD   \n",
      "...                                    ...               ...        ...   \n",
      "2209  ff07ea4b-4e50-410d-99d6-96a351dad7b1      TCGA-55-7570  TCGA-LUAD   \n",
      "2210  ff9def3d-17e5-4ef6-b74e-933f11ed6f00      TCGA-78-7146  TCGA-LUAD   \n",
      "2211  ff9def3d-17e5-4ef6-b74e-933f11ed6f00      TCGA-78-7146  TCGA-LUAD   \n",
      "2212  ffb0c0b7-165e-4439-b3e6-62431f40b7fe      TCGA-44-3398  TCGA-LUAD   \n",
      "2213  ffb0c0b7-165e-4439-b3e6-62431f40b7fe      TCGA-44-3398  TCGA-LUAD   \n",
      "\n",
      "     age_at_index age_is_obfuscated cause_of_death cause_of_death_source  \\\n",
      "0              64              None           None                  None   \n",
      "1              64              None           None                  None   \n",
      "2              84              None           None                  None   \n",
      "3              84              None           None                  None   \n",
      "4            None              None           None                  None   \n",
      "...           ...               ...            ...                   ...   \n",
      "2209           60              None           None                  None   \n",
      "2210           71              None           None                  None   \n",
      "2211           71              None           None                  None   \n",
      "2212           77              None           None                  None   \n",
      "2213           77              None           None                  None   \n",
      "\n",
      "     country_of_residence_at_enrollment days_to_birth days_to_death  ...  \\\n",
      "0                                  None        -23689          None  ...   \n",
      "1                                  None        -23689          None  ...   \n",
      "2                                  None        -30706          None  ...   \n",
      "3                                  None        -30706          None  ...   \n",
      "4                                  None          None          None  ...   \n",
      "...                                 ...           ...           ...  ...   \n",
      "2209                               None        -22218          None  ...   \n",
      "2210                               None        -26272           173  ...   \n",
      "2211                               None        -26272           173  ...   \n",
      "2212                               None        -28392          None  ...   \n",
      "2213                               None        -28392          None  ...   \n",
      "\n",
      "     treatment_arm treatment_dose treatment_dose_units treatment_effect  \\\n",
      "0             None           None                 None             None   \n",
      "1             None           None                 None             None   \n",
      "2             None           None                 None             None   \n",
      "3             None           None                 None             None   \n",
      "4             None           None                 None             None   \n",
      "...            ...            ...                  ...              ...   \n",
      "2209          None           None                 None             None   \n",
      "2210          None           None                 None             None   \n",
      "2211          None           None                 None             None   \n",
      "2212          None           None                 None             None   \n",
      "2213          None           None                 None             None   \n",
      "\n",
      "     treatment_effect_indicator treatment_frequency treatment_intent_type  \\\n",
      "0                          None                None                  None   \n",
      "1                          None                None                  None   \n",
      "2                          None                None                  None   \n",
      "3                          None                None                  None   \n",
      "4                          None                None                  None   \n",
      "...                         ...                 ...                   ...   \n",
      "2209                       None                None                  None   \n",
      "2210                       None                None                  None   \n",
      "2211                       None                None                  None   \n",
      "2212                       None                None                  None   \n",
      "2213                       None                None                  None   \n",
      "\n",
      "     treatment_or_therapy treatment_outcome               treatment_type  \n",
      "0                     yes              None  Pharmaceutical Therapy, NOS  \n",
      "1                      no              None       Radiation Therapy, NOS  \n",
      "2            not reported              None       Radiation Therapy, NOS  \n",
      "3            not reported              None  Pharmaceutical Therapy, NOS  \n",
      "4                    None              None                         None  \n",
      "...                   ...               ...                          ...  \n",
      "2209                   no              None  Pharmaceutical Therapy, NOS  \n",
      "2210                   no              None       Radiation Therapy, NOS  \n",
      "2211                   no              None  Pharmaceutical Therapy, NOS  \n",
      "2212                   no              None  Pharmaceutical Therapy, NOS  \n",
      "2213                   no              None       Radiation Therapy, NOS  \n",
      "\n",
      "[2214 rows x 158 columns]\n"
     ]
    }
   ],
   "source": [
    "query = \"SELECT * FROM nihnci.clinical WHERE project_id = 'TCGA-LUAD'\"\n",
    "data = minds.query(query)\n",
    "print(data)"
   ]
  },
  {
   "cell_type": "code",
   "execution_count": null,
   "metadata": {},
   "outputs": [],
   "source": []
  }
 ],
 "metadata": {
  "kernelspec": {
   "display_name": "MINDS",
   "language": "python",
   "name": "python3"
  },
  "language_info": {
   "codemirror_mode": {
    "name": "ipython",
    "version": 3
   },
   "file_extension": ".py",
   "mimetype": "text/x-python",
   "name": "python",
   "nbconvert_exporter": "python",
   "pygments_lexer": "ipython3",
   "version": "3.11.4"
  }
 },
 "nbformat": 4,
 "nbformat_minor": 2
}
