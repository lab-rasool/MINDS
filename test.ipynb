{
 "cells": [
  {
   "cell_type": "code",
   "execution_count": 1,
   "metadata": {},
   "outputs": [
    {
     "name": "stderr",
     "output_type": "stream",
     "text": [
      "c:\\Users\\aakas\\miniconda3\\envs\\MINDS\\Lib\\site-packages\\tqdm\\auto.py:21: TqdmWarning: IProgress not found. Please update jupyter and ipywidgets. See https://ipywidgets.readthedocs.io/en/stable/user_install.html\n",
      "  from .autonotebook import tqdm as notebook_tqdm\n",
      "2024-02-11 18:27:37,025 - INFO - Uploading new data to the database\n",
      "2024-02-11 18:27:38,108 - INFO - Creating aliquot\n",
      "2024-02-11 18:27:52,484 - INFO - Creating analyte\n",
      "2024-02-11 18:28:00,255 - INFO - Creating clinical\n",
      "2024-02-11 18:28:16,663 - INFO - Creating exposure\n",
      "2024-02-11 18:28:17,686 - INFO - Creating family_history\n",
      "2024-02-11 18:28:19,679 - INFO - Creating follow_up\n",
      "2024-02-11 18:28:48,383 - INFO - Creating pathology_detail\n",
      "2024-02-11 18:28:49,001 - INFO - Creating portion\n",
      "2024-02-11 18:28:53,855 - INFO - Creating sample\n",
      "2024-02-11 18:29:00,609 - INFO - Creating slide\n",
      "2024-02-11 18:29:04,314 - INFO - Finished uploading to the database\n"
     ]
    }
   ],
   "source": [
    "import minds\n",
    "\n",
    "minds.update()"
   ]
  },
  {
   "cell_type": "code",
   "execution_count": 2,
   "metadata": {},
   "outputs": [
    {
     "name": "stdout",
     "output_type": "stream",
     "text": [
      "0             aliquot\n",
      "1             analyte\n",
      "2            clinical\n",
      "3            exposure\n",
      "4      family_history\n",
      "5           follow_up\n",
      "6    pathology_detail\n",
      "7             portion\n",
      "8              sample\n",
      "9               slide\n",
      "Name: Tables_in_minds, dtype: object\n"
     ]
    }
   ],
   "source": [
    "tables = minds.get_tables()\n",
    "print(tables)"
   ]
  },
  {
   "cell_type": "code",
   "execution_count": 3,
   "metadata": {},
   "outputs": [
    {
     "name": "stdout",
     "output_type": "stream",
     "text": [
      "0                    case_id\n",
      "1          case_submitter_id\n",
      "2                 project_id\n",
      "3               age_at_index\n",
      "4          age_is_obfuscated\n",
      "               ...          \n",
      "153      treatment_frequency\n",
      "154    treatment_intent_type\n",
      "155     treatment_or_therapy\n",
      "156        treatment_outcome\n",
      "157           treatment_type\n",
      "Name: Field, Length: 158, dtype: object\n"
     ]
    }
   ],
   "source": [
    "print(minds.get_columns(tables[2]))"
   ]
  },
  {
   "cell_type": "code",
   "execution_count": 5,
   "metadata": {},
   "outputs": [
    {
     "name": "stdout",
     "output_type": "stream",
     "text": [
      "                                   case_id case_submitter_id project_id  \\\n",
      "0     0075437e-ba1a-46be-86d6-9773209a2b5e      TCGA-62-A471  TCGA-LUAD   \n",
      "1     0075437e-ba1a-46be-86d6-9773209a2b5e      TCGA-62-A471  TCGA-LUAD   \n",
      "2     009be09b-f9f6-43b7-8f45-4a648f8123ce      TCGA-67-3773  TCGA-LUAD   \n",
      "3     009be09b-f9f6-43b7-8f45-4a648f8123ce      TCGA-67-3773  TCGA-LUAD   \n",
      "4     0147edcf-0ca5-4136-bd01-43d05e2843f4      TCGA-17-Z038  TCGA-LUAD   \n",
      "...                                    ...               ...        ...   \n",
      "1102  ff07ea4b-4e50-410d-99d6-96a351dad7b1      TCGA-55-7570  TCGA-LUAD   \n",
      "1103  ff9def3d-17e5-4ef6-b74e-933f11ed6f00      TCGA-78-7146  TCGA-LUAD   \n",
      "1104  ff9def3d-17e5-4ef6-b74e-933f11ed6f00      TCGA-78-7146  TCGA-LUAD   \n",
      "1105  ffb0c0b7-165e-4439-b3e6-62431f40b7fe      TCGA-44-3398  TCGA-LUAD   \n",
      "1106  ffb0c0b7-165e-4439-b3e6-62431f40b7fe      TCGA-44-3398  TCGA-LUAD   \n",
      "\n",
      "     age_at_index age_is_obfuscated cause_of_death cause_of_death_source  \\\n",
      "0              64              None           None                  None   \n",
      "1              64              None           None                  None   \n",
      "2              84              None           None                  None   \n",
      "3              84              None           None                  None   \n",
      "4            None              None           None                  None   \n",
      "...           ...               ...            ...                   ...   \n",
      "1102           60              None           None                  None   \n",
      "1103           71              None           None                  None   \n",
      "1104           71              None           None                  None   \n",
      "1105           77              None           None                  None   \n",
      "1106           77              None           None                  None   \n",
      "\n",
      "     country_of_residence_at_enrollment days_to_birth days_to_death  ...  \\\n",
      "0                                  None        -23689          None  ...   \n",
      "1                                  None        -23689          None  ...   \n",
      "2                                  None        -30706          None  ...   \n",
      "3                                  None        -30706          None  ...   \n",
      "4                                  None          None          None  ...   \n",
      "...                                 ...           ...           ...  ...   \n",
      "1102                               None        -22218          None  ...   \n",
      "1103                               None        -26272           173  ...   \n",
      "1104                               None        -26272           173  ...   \n",
      "1105                               None        -28392          None  ...   \n",
      "1106                               None        -28392          None  ...   \n",
      "\n",
      "     treatment_arm treatment_dose treatment_dose_units treatment_effect  \\\n",
      "0             None           None                 None             None   \n",
      "1             None           None                 None             None   \n",
      "2             None           None                 None             None   \n",
      "3             None           None                 None             None   \n",
      "4             None           None                 None             None   \n",
      "...            ...            ...                  ...              ...   \n",
      "1102          None           None                 None             None   \n",
      "1103          None           None                 None             None   \n",
      "1104          None           None                 None             None   \n",
      "1105          None           None                 None             None   \n",
      "1106          None           None                 None             None   \n",
      "\n",
      "     treatment_effect_indicator treatment_frequency treatment_intent_type  \\\n",
      "0                          None                None                  None   \n",
      "1                          None                None                  None   \n",
      "2                          None                None                  None   \n",
      "3                          None                None                  None   \n",
      "4                          None                None                  None   \n",
      "...                         ...                 ...                   ...   \n",
      "1102                       None                None                  None   \n",
      "1103                       None                None                  None   \n",
      "1104                       None                None                  None   \n",
      "1105                       None                None                  None   \n",
      "1106                       None                None                  None   \n",
      "\n",
      "     treatment_or_therapy treatment_outcome               treatment_type  \n",
      "0                     yes              None  Pharmaceutical Therapy, NOS  \n",
      "1                      no              None       Radiation Therapy, NOS  \n",
      "2            not reported              None       Radiation Therapy, NOS  \n",
      "3            not reported              None  Pharmaceutical Therapy, NOS  \n",
      "4                    None              None                         None  \n",
      "...                   ...               ...                          ...  \n",
      "1102                   no              None  Pharmaceutical Therapy, NOS  \n",
      "1103                   no              None       Radiation Therapy, NOS  \n",
      "1104                   no              None  Pharmaceutical Therapy, NOS  \n",
      "1105                   no              None  Pharmaceutical Therapy, NOS  \n",
      "1106                   no              None       Radiation Therapy, NOS  \n",
      "\n",
      "[1107 rows x 158 columns]\n"
     ]
    }
   ],
   "source": [
    "query = \"SELECT * FROM minds.clinical WHERE project_id = 'TCGA-LUAD'\"\n",
    "data = minds.query(query)\n",
    "print(data)"
   ]
  },
  {
   "cell_type": "code",
   "execution_count": 6,
   "metadata": {},
   "outputs": [
    {
     "name": "stdout",
     "output_type": "stream",
     "text": [
      "case_id\n",
      "0075437e-ba1a-46be-86d6-9773209a2b5e    [TCGA-62-A471]\n",
      "009be09b-f9f6-43b7-8f45-4a648f8123ce    [TCGA-67-3773]\n",
      "0147edcf-0ca5-4136-bd01-43d05e2843f4    [TCGA-17-Z038]\n",
      "01e9888d-b5b9-48f1-8ba6-8a89af108a04    [TCGA-NJ-A7XG]\n",
      "0232d299-4cdf-4fd7-9a5e-8d13c208b40c    [TCGA-91-6848]\n",
      "                                             ...      \n",
      "fe3eeeb6-0db4-46d7-a020-55604d474c12    [TCGA-78-7167]\n",
      "fe714ac0-f874-426a-924b-a2980232b5f7    [TCGA-55-8616]\n",
      "ff07ea4b-4e50-410d-99d6-96a351dad7b1    [TCGA-55-7570]\n",
      "ff9def3d-17e5-4ef6-b74e-933f11ed6f00    [TCGA-78-7146]\n",
      "ffb0c0b7-165e-4439-b3e6-62431f40b7fe    [TCGA-44-3398]\n",
      "Name: case_submitter_id, Length: 585, dtype: object\n"
     ]
    }
   ],
   "source": [
    "cohort = minds.get_cohort(query=query)\n",
    "print(cohort)"
   ]
  },
  {
   "cell_type": "code",
   "execution_count": null,
   "metadata": {},
   "outputs": [],
   "source": []
  }
 ],
 "metadata": {
  "kernelspec": {
   "display_name": "MINDS",
   "language": "python",
   "name": "python3"
  },
  "language_info": {
   "codemirror_mode": {
    "name": "ipython",
    "version": 3
   },
   "file_extension": ".py",
   "mimetype": "text/x-python",
   "name": "python",
   "nbconvert_exporter": "python",
   "pygments_lexer": "ipython3",
   "version": "3.11.4"
  }
 },
 "nbformat": 4,
 "nbformat_minor": 2
}
